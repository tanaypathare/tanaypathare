{
 "cells": [
  {
   "cell_type": "code",
   "execution_count": 1,
   "id": "e6d75db5-ab2a-46a7-9340-84165f3b6a2e",
   "metadata": {},
   "outputs": [
    {
     "data": {
      "text/plain": [
       "str"
      ]
     },
     "execution_count": 1,
     "metadata": {},
     "output_type": "execute_result"
    }
   ],
   "source": [
    "type(\"2\")"
   ]
  },
  {
   "cell_type": "code",
   "execution_count": 9,
   "id": "87c8f272-dcbb-4138-b12a-c11d997b78cf",
   "metadata": {
    "tags": []
   },
   "outputs": [
    {
     "data": {
      "text/plain": [
       "int"
      ]
     },
     "execution_count": 9,
     "metadata": {},
     "output_type": "execute_result"
    }
   ],
   "source": [
    "type(2)"
   ]
  },
  {
   "cell_type": "code",
   "execution_count": 10,
   "id": "d7510ba2-08f6-4b59-90c0-a25b8b3579c5",
   "metadata": {},
   "outputs": [
    {
     "data": {
      "text/plain": [
       "float"
      ]
     },
     "execution_count": 10,
     "metadata": {},
     "output_type": "execute_result"
    }
   ],
   "source": [
    "type(2.0)"
   ]
  },
  {
   "cell_type": "code",
   "execution_count": 12,
   "id": "80d48ddb-b50b-4956-b8bc-f3e003163e9c",
   "metadata": {},
   "outputs": [
    {
     "name": "stdout",
     "output_type": "stream",
     "text": [
      "15\n",
      "50\n"
     ]
    }
   ],
   "source": [
    "x = 10\n",
    "y = 5\n",
    "print(x+y)\n",
    "print(x*y)"
   ]
  },
  {
   "cell_type": "code",
   "execution_count": 13,
   "id": "85d6016a-317d-4b3d-ba04-c5bec3372cdb",
   "metadata": {},
   "outputs": [
    {
     "data": {
      "text/plain": [
       "2.0"
      ]
     },
     "execution_count": 13,
     "metadata": {},
     "output_type": "execute_result"
    }
   ],
   "source": [
    "# Division will always result in a float\n",
    "z = x / y\n",
    "type(z)\n",
    "z"
   ]
  },
  {
   "cell_type": "code",
   "execution_count": 14,
   "id": "14b19e26-d6d3-4a74-a92c-7fbd3331ba32",
   "metadata": {},
   "outputs": [
    {
     "name": "stdout",
     "output_type": "stream",
     "text": [
      "<class 'float'>\n"
     ]
    }
   ],
   "source": [
    "print(type(z))\n"
   ]
  },
  {
   "cell_type": "code",
   "execution_count": 17,
   "id": "cbfcac5e-2286-4009-b256-fc11b35e3bf2",
   "metadata": {},
   "outputs": [
    {
     "name": "stdout",
     "output_type": "stream",
     "text": [
      "<class 'float'>\n",
      "<class 'int'>\n",
      "50.0\n"
     ]
    },
    {
     "data": {
      "text/plain": [
       "NoneType"
      ]
     },
     "execution_count": 17,
     "metadata": {},
     "output_type": "execute_result"
    }
   ],
   "source": [
    "# Sum or product of integer with a float results is a float\n",
    "\n",
    "x = 10.0\n",
    "y = 5\n",
    "print(type(x))\n",
    "print(type(y))\n",
    "type(print(x * y))"
   ]
  },
  {
   "cell_type": "code",
   "execution_count": 18,
   "id": "6a0d5a14-bd9a-4320-a08e-65a15d003642",
   "metadata": {},
   "outputs": [],
   "source": [
    "# A float uses 64 bits to use decimal values, a floating point is cpaable of 16 places of precision\n",
    "# Need more memory to store values with more than 16+ of precision"
   ]
  },
  {
   "cell_type": "code",
   "execution_count": 19,
   "id": "bf99fc75-8aeb-4e77-a35b-b566b4290867",
   "metadata": {},
   "outputs": [
    {
     "data": {
      "text/plain": [
       "89884656743115795386465259539451236680898848947115328636715040578866337902750481566354238661203768010560056939935696678829394884407208311246423715319737062188883946712432742638151109800623047059726541476042502884419075341171231440736956555270413618581675255342293149119973622969239858152417678164812112068608"
      ]
     },
     "execution_count": 19,
     "metadata": {},
     "output_type": "execute_result"
    }
   ],
   "source": [
    "2 ** 1023"
   ]
  },
  {
   "cell_type": "code",
   "execution_count": 28,
   "id": "a91adceb-76f1-42b6-8ce1-af8d18c637fd",
   "metadata": {},
   "outputs": [
    {
     "ename": "OverflowError",
     "evalue": "(34, 'Result too large')",
     "output_type": "error",
     "traceback": [
      "\u001b[0;31m---------------------------------------------------------------------------\u001b[0m",
      "\u001b[0;31mOverflowError\u001b[0m                             Traceback (most recent call last)",
      "\u001b[0;32m/var/folders/ll/ktx6pcn92f55qc2tg85t55bh0000gn/T/ipykernel_13891/2937383543.py\u001b[0m in \u001b[0;36m<module>\u001b[0;34m\u001b[0m\n\u001b[0;32m----> 1\u001b[0;31m \u001b[0;36m2\u001b[0m \u001b[0;34m**\u001b[0m \u001b[0;36m1024.\u001b[0m \u001b[0;31m#mostly too big to be represented with double floating point\u001b[0m\u001b[0;34m\u001b[0m\u001b[0;34m\u001b[0m\u001b[0m\n\u001b[0m",
      "\u001b[0;31mOverflowError\u001b[0m: (34, 'Result too large')"
     ]
    }
   ],
   "source": [
    "2 ** 1024. #mostly too big to be represented with double floating point"
   ]
  },
  {
   "cell_type": "code",
   "execution_count": 22,
   "id": "c0ef2158-db58-4f82-bd68-ec27e3837ffc",
   "metadata": {},
   "outputs": [
    {
     "data": {
      "text/plain": [
       "False"
      ]
     },
     "execution_count": 22,
     "metadata": {},
     "output_type": "execute_result"
    }
   ],
   "source": [
    "# Floating point and real numbers don't work in the same way\n",
    "a = (1 + 2) / 10\n",
    "b = 1/10 + 2/10\n",
    "a == b # With real numbers, we expect them to be equal"
   ]
  },
  {
   "cell_type": "code",
   "execution_count": 24,
   "id": "51701c7c-4b0a-4b91-9164-8bcda78185f0",
   "metadata": {},
   "outputs": [
    {
     "name": "stdout",
     "output_type": "stream",
     "text": [
      "0.30000000000000004441\n"
     ]
    }
   ],
   "source": [
    "print(\"%0.20f\" % b)"
   ]
  },
  {
   "cell_type": "code",
   "execution_count": 26,
   "id": "223e4b36-62a6-4da1-a54e-4cfb9be4ab85",
   "metadata": {},
   "outputs": [],
   "source": [
    " # To check if numbers are approximately equal use \"isclose()\" in the math library"
   ]
  },
  {
   "cell_type": "code",
   "execution_count": 27,
   "id": "a5f97bbe-b258-4c24-bdf1-42457c60cbdc",
   "metadata": {},
   "outputs": [
    {
     "data": {
      "text/plain": [
       "89884656743115795386465259539451236680898848947115328636715040578866337902750481566354238661203768010560056939935696678829394884407208311246423715319737062188883946712432742638151109800623047059726541476042502884419075341171231440736956555270413618581675255342293149119973622969239858152417678164812112068608"
      ]
     },
     "execution_count": 27,
     "metadata": {},
     "output_type": "execute_result"
    }
   ],
   "source": [
    "# Use variable amounts of memory and can show very large numbers with good precision\n",
    "2 ** 1023"
   ]
  },
  {
   "cell_type": "code",
   "execution_count": 29,
   "id": "0f89a514-e46f-4828-99eb-1c78f2d7c819",
   "metadata": {},
   "outputs": [
    {
     "data": {
      "text/plain": [
       "81"
      ]
     },
     "execution_count": 29,
     "metadata": {},
     "output_type": "execute_result"
    }
   ],
   "source": [
    "9 ** 2 # Power operator, can result in float or int depending on input"
   ]
  },
  {
   "cell_type": "code",
   "execution_count": 30,
   "id": "ac28f4db-3e59-444b-b25d-1295594d4bbd",
   "metadata": {},
   "outputs": [
    {
     "ename": "NameError",
     "evalue": "name 'sqrt' is not defined",
     "output_type": "error",
     "traceback": [
      "\u001b[0;31m---------------------------------------------------------------------------\u001b[0m",
      "\u001b[0;31mNameError\u001b[0m                                 Traceback (most recent call last)",
      "\u001b[0;32m/var/folders/ll/ktx6pcn92f55qc2tg85t55bh0000gn/T/ipykernel_13891/3918740153.py\u001b[0m in \u001b[0;36m<module>\u001b[0;34m\u001b[0m\n\u001b[0;32m----> 1\u001b[0;31m \u001b[0msqrt\u001b[0m\u001b[0;34m(\u001b[0m\u001b[0;36m9\u001b[0m\u001b[0;34m)\u001b[0m\u001b[0;34m\u001b[0m\u001b[0;34m\u001b[0m\u001b[0m\n\u001b[0m",
      "\u001b[0;31mNameError\u001b[0m: name 'sqrt' is not defined"
     ]
    }
   ],
   "source": [
    "sqrt(9)"
   ]
  },
  {
   "cell_type": "code",
   "execution_count": 32,
   "id": "d8271087-1270-4c82-9b65-f46f2b117d77",
   "metadata": {},
   "outputs": [
    {
     "data": {
      "text/plain": [
       "3.0"
      ]
     },
     "execution_count": 32,
     "metadata": {},
     "output_type": "execute_result"
    }
   ],
   "source": [
    "9 ** 0.5"
   ]
  },
  {
   "cell_type": "code",
   "execution_count": 33,
   "id": "5e1578de-802e-4766-b2cf-c051e8db1ea5",
   "metadata": {},
   "outputs": [
    {
     "ename": "NameError",
     "evalue": "name 'pi' is not defined",
     "output_type": "error",
     "traceback": [
      "\u001b[0;31m---------------------------------------------------------------------------\u001b[0m",
      "\u001b[0;31mNameError\u001b[0m                                 Traceback (most recent call last)",
      "\u001b[0;32m/var/folders/ll/ktx6pcn92f55qc2tg85t55bh0000gn/T/ipykernel_13891/3440806613.py\u001b[0m in \u001b[0;36m<module>\u001b[0;34m\u001b[0m\n\u001b[0;32m----> 1\u001b[0;31m \u001b[0mpi\u001b[0m\u001b[0;34m\u001b[0m\u001b[0;34m\u001b[0m\u001b[0m\n\u001b[0m",
      "\u001b[0;31mNameError\u001b[0m: name 'pi' is not defined"
     ]
    }
   ],
   "source": [
    "pi"
   ]
  },
  {
   "cell_type": "code",
   "execution_count": 34,
   "id": "fc2414c2-9d9b-4be6-82cd-d2aa9c6e7cb0",
   "metadata": {},
   "outputs": [
    {
     "ename": "NameError",
     "evalue": "name 'exp' is not defined",
     "output_type": "error",
     "traceback": [
      "\u001b[0;31m---------------------------------------------------------------------------\u001b[0m",
      "\u001b[0;31mNameError\u001b[0m                                 Traceback (most recent call last)",
      "\u001b[0;32m/var/folders/ll/ktx6pcn92f55qc2tg85t55bh0000gn/T/ipykernel_13891/3115349747.py\u001b[0m in \u001b[0;36m<module>\u001b[0;34m\u001b[0m\n\u001b[0;32m----> 1\u001b[0;31m \u001b[0mexp\u001b[0m\u001b[0;34m(\u001b[0m\u001b[0;36m2\u001b[0m\u001b[0;34m)\u001b[0m\u001b[0;34m\u001b[0m\u001b[0;34m\u001b[0m\u001b[0m\n\u001b[0m",
      "\u001b[0;31mNameError\u001b[0m: name 'exp' is not defined"
     ]
    }
   ],
   "source": [
    "exp(2)"
   ]
  },
  {
   "cell_type": "code",
   "execution_count": 35,
   "id": "d37efb23-a508-4b8c-8cc4-dad1c73f471e",
   "metadata": {},
   "outputs": [],
   "source": [
    "import math"
   ]
  },
  {
   "cell_type": "code",
   "execution_count": 36,
   "id": "83da82a8-471e-488e-8af6-35aa8a7fee99",
   "metadata": {},
   "outputs": [
    {
     "data": {
      "text/plain": [
       "3.0"
      ]
     },
     "execution_count": 36,
     "metadata": {},
     "output_type": "execute_result"
    }
   ],
   "source": [
    "math.sqrt(9) # precede function names, with the math. prefix and then the function"
   ]
  },
  {
   "cell_type": "code",
   "execution_count": 38,
   "id": "e76782ed-6134-4678-9d40-643ccf9e3630",
   "metadata": {},
   "outputs": [
    {
     "data": {
      "text/plain": [
       "3.141592653589793"
      ]
     },
     "execution_count": 38,
     "metadata": {},
     "output_type": "execute_result"
    }
   ],
   "source": [
    "math.pi"
   ]
  },
  {
   "cell_type": "code",
   "execution_count": 39,
   "id": "965504bd-df8a-4e84-ae8e-482cde852a3c",
   "metadata": {},
   "outputs": [
    {
     "data": {
      "text/plain": [
       "7.38905609893065"
      ]
     },
     "execution_count": 39,
     "metadata": {},
     "output_type": "execute_result"
    }
   ],
   "source": [
    "math.exp(2)"
   ]
  },
  {
   "cell_type": "code",
   "execution_count": 40,
   "id": "c02c08be-137f-4a96-bcfa-4c560398a070",
   "metadata": {},
   "outputs": [
    {
     "data": {
      "text/plain": [
       "2.718281828459045"
      ]
     },
     "execution_count": 40,
     "metadata": {},
     "output_type": "execute_result"
    }
   ],
   "source": [
    "math.exp(1) # The value for e"
   ]
  },
  {
   "cell_type": "code",
   "execution_count": 41,
   "id": "c760b151-43ec-449e-9c42-a0e581737bc4",
   "metadata": {},
   "outputs": [
    {
     "data": {
      "text/plain": [
       "True"
      ]
     },
     "execution_count": 41,
     "metadata": {},
     "output_type": "execute_result"
    }
   ],
   "source": [
    "math.isclose(math.exp(1), math.e) #whether these two values are close to one another"
   ]
  },
  {
   "cell_type": "code",
   "execution_count": 44,
   "id": "cf6d98a0-74e4-4fe1-8b05-a661dcf30b5c",
   "metadata": {},
   "outputs": [
    {
     "name": "stdout",
     "output_type": "stream",
     "text": [
      "2.71828182845904509080\n"
     ]
    }
   ],
   "source": [
    "print(\"%0.20f\" % math.e)"
   ]
  },
  {
   "cell_type": "code",
   "execution_count": 45,
   "id": "ac3023f3-1a3a-4ada-ab52-d726e547f77b",
   "metadata": {},
   "outputs": [
    {
     "data": {
      "text/plain": [
       "1.0"
      ]
     },
     "execution_count": 45,
     "metadata": {},
     "output_type": "execute_result"
    }
   ],
   "source": [
    "math.sin(math.pi / 2)"
   ]
  },
  {
   "cell_type": "code",
   "execution_count": 47,
   "id": "d92573d9-1d8d-4adb-8cc7-d464d7baa7f7",
   "metadata": {},
   "outputs": [
    {
     "data": {
      "text/plain": [
       "bool"
      ]
     },
     "execution_count": 47,
     "metadata": {},
     "output_type": "execute_result"
    }
   ],
   "source": [
    "type(True)"
   ]
  },
  {
   "cell_type": "code",
   "execution_count": 50,
   "id": "8d1ae6d2-8083-46cb-9289-e7dcf42bf40b",
   "metadata": {},
   "outputs": [
    {
     "data": {
      "text/plain": [
       "str"
      ]
     },
     "execution_count": 50,
     "metadata": {},
     "output_type": "execute_result"
    }
   ],
   "source": [
    "type(\"True\")"
   ]
  },
  {
   "cell_type": "code",
   "execution_count": 52,
   "id": "d48051bd-2eee-47f5-8681-3312f7d512a6",
   "metadata": {},
   "outputs": [],
   "source": [
    "# True and False are the only accepted ways of representing boolean values\n",
    "# python.org is the best way to find official documentation and other libraries"
   ]
  },
  {
   "cell_type": "code",
   "execution_count": 53,
   "id": "caa870d6-f286-4553-9583-d60a43ea6244",
   "metadata": {},
   "outputs": [
    {
     "data": {
      "text/plain": [
       "19"
      ]
     },
     "execution_count": 53,
     "metadata": {},
     "output_type": "execute_result"
    }
   ],
   "source": [
    "# Putting anything in single or double quotes, can create strings\n",
    "message1 = \"Hello! How are you?\"\n",
    "len(message1) # number of characters"
   ]
  },
  {
   "cell_type": "code",
   "execution_count": 54,
   "id": "304478f5-782a-4f81-bc68-aac66d6f76cf",
   "metadata": {},
   "outputs": [
    {
     "data": {
      "text/plain": [
       "'Hello! How are you?Hello! How are you?Hello! How are you?Hello! How are you?'"
      ]
     },
     "execution_count": 54,
     "metadata": {},
     "output_type": "execute_result"
    }
   ],
   "source": [
    "4 * message1 # multiplication with strings"
   ]
  },
  {
   "cell_type": "code",
   "execution_count": 57,
   "id": "27c6aa37-ad8f-472a-9623-6b1c49cff799",
   "metadata": {},
   "outputs": [
    {
     "name": "stdout",
     "output_type": "stream",
     "text": [
      "5\n"
     ]
    }
   ],
   "source": [
    "n = 5 # name on the right, gets assigned to the value on the left\n",
    "print(n)"
   ]
  },
  {
   "cell_type": "code",
   "execution_count": 59,
   "id": "93a1a28b-eaca-4344-b985-c5e5f5558838",
   "metadata": {},
   "outputs": [],
   "source": [
    "x = 4 # when writing this and defining a variable, definint a bucket that contains some type of data\n",
    "      # stores integer data, 4 is a value that exists and x points to that, defining pointer \"x\"\n"
   ]
  },
  {
   "cell_type": "code",
   "execution_count": 61,
   "id": "caa1a5a5-6ddc-4318-b266-395a1ebec70c",
   "metadata": {},
   "outputs": [],
   "source": [
    "x = 1      # Points to an integer\n",
    "x = \"hello\" # Points to a string\n",
    "x = [1, 2, 3]  # Points to a list\n",
    "# this allows variables to take on a variety of forms"
   ]
  },
  {
   "cell_type": "code",
   "execution_count": 63,
   "id": "ee8ebf34-e778-4653-bb9d-f511417f1c66",
   "metadata": {},
   "outputs": [],
   "source": [
    "# variable names have a couple rules:\n",
    "# can't start with numbers\n",
    "# no symbols other than an underscore\n",
    "# no spaces\n",
    "#cannot be a python keyword\n",
    "# Art of naming variables comes down to being clear and concise, in english, without containing special characters"
   ]
  },
  {
   "cell_type": "code",
   "execution_count": 64,
   "id": "5b389227-7807-4471-8334-ffd1147ebb6c",
   "metadata": {},
   "outputs": [],
   "source": [
    "s = \"101533\" # bad variable name"
   ]
  },
  {
   "cell_type": "code",
   "execution_count": 65,
   "id": "a0deb8f9-d27b-430e-8ae1-3da8af5925d9",
   "metadata": {},
   "outputs": [],
   "source": [
    "sid = \"101533\" # bad variable name, nothing to contextualize"
   ]
  },
  {
   "cell_type": "code",
   "execution_count": 66,
   "id": "38dd3bfd-fe34-4b41-a1f3-1ed755c0a43a",
   "metadata": {},
   "outputs": [],
   "source": [
    "# tab completion allows for quickly writing variable names once written\n",
    "# snake_case uses underscores between words, whereas UpperCamelCase, uses upper cases with every new word"
   ]
  },
  {
   "cell_type": "code",
   "execution_count": 67,
   "id": "f4168587-d6b3-4ebc-af5c-9b3691cd6207",
   "metadata": {},
   "outputs": [],
   "source": [
    "# Use plurals when naming lists or arrays, names should be used in the variable name with string values"
   ]
  },
  {
   "cell_type": "code",
   "execution_count": 68,
   "id": "9370558b-de18-4b09-b6bc-eb06a47a6b6a",
   "metadata": {},
   "outputs": [],
   "source": [
    "fruit_names = ['apple', 'banana', 'orange']"
   ]
  },
  {
   "cell_type": "code",
   "execution_count": 69,
   "id": "22a12810-9542-4ea2-9e3f-441c9da0a52c",
   "metadata": {},
   "outputs": [
    {
     "name": "stdout",
     "output_type": "stream",
     "text": [
      "['apple', 'banana', 'orange']\n"
     ]
    }
   ],
   "source": [
    "print(fruit_names)"
   ]
  },
  {
   "cell_type": "code",
   "execution_count": 70,
   "id": "59188bc2-ce1b-4ef7-9e61-7c8b71e4a056",
   "metadata": {},
   "outputs": [],
   "source": [
    "# Boolean values should have words with 'is', 'can', 'has', and the variable name"
   ]
  },
  {
   "cell_type": "code",
   "execution_count": 71,
   "id": "468b6e42-29ef-49de-86c7-32a15113cd31",
   "metadata": {},
   "outputs": [],
   "source": [
    "# can also use descriptive words such as 'min', 'max', 'total', or 'current', with numeric values"
   ]
  },
  {
   "cell_type": "code",
   "execution_count": null,
   "id": "7651e60b-28d3-40a3-9345-97b116a543e5",
   "metadata": {},
   "outputs": [],
   "source": [
    "# variablename.sort() sorts and modifies a list\n",
    "# sorted() can do the same things with another variable name, etc. "
   ]
  }
 ],
 "metadata": {
  "kernelspec": {
   "display_name": "Python 3 (ipykernel)",
   "language": "python",
   "name": "python3"
  },
  "language_info": {
   "codemirror_mode": {
    "name": "ipython",
    "version": 3
   },
   "file_extension": ".py",
   "mimetype": "text/x-python",
   "name": "python",
   "nbconvert_exporter": "python",
   "pygments_lexer": "ipython3",
   "version": "3.9.7"
  }
 },
 "nbformat": 4,
 "nbformat_minor": 5
}
